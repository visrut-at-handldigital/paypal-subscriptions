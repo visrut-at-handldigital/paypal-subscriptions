{
 "cells": [
  {
   "cell_type": "code",
   "execution_count": 6,
   "metadata": {},
   "outputs": [],
   "source": [
    "## dependencies\n",
    "! pip install requests -q\n",
    "! pip install python-dotenv -q"
   ]
  },
  {
   "cell_type": "markdown",
   "metadata": {},
   "source": [
    "1. I am following this Guide: https://developer.paypal.com/docs/subscriptions/integrate/\n",
    "2. To setup Access keys: https://developer.paypal.com/api/rest/"
   ]
  },
  {
   "cell_type": "code",
   "execution_count": 9,
   "metadata": {},
   "outputs": [],
   "source": [
    "import os\n",
    "from dotenv import load_dotenv\n",
    "\n",
    "load_dotenv()\n",
    "\n",
    "PAYPAL_CLIENT_ID = os.getenv('PAYPAL_CLIENT_ID')\n",
    "PAYPAL_CLIENT_SECRET = os.getenv('PAYPAL_CLIENT_SECRET')"
   ]
  },
  {
   "cell_type": "code",
   "execution_count": 2,
   "metadata": {},
   "outputs": [],
   "source": [
    "BASE_URL = 'https://api-m.sandbox.paypal.com'"
   ]
  },
  {
   "cell_type": "code",
   "execution_count": 15,
   "metadata": {},
   "outputs": [],
   "source": [
    "import requests\n",
    "from requests.auth import HTTPBasicAuth\n",
    "\n",
    "\n",
    "def get_access_token():\n",
    "    auth = HTTPBasicAuth(PAYPAL_CLIENT_ID, PAYPAL_CLIENT_SECRET)\n",
    "    headers = {'Content-Type': 'application/x-www-form-urlencoded'}\n",
    "    data = {'grant_type': 'client_credentials'}\n",
    "    res = requests.post(f'{BASE_URL}/v1/oauth2/token', headers=headers, data=data, auth=auth)\n",
    "    return res.json()['access_token']"
   ]
  },
  {
   "cell_type": "markdown",
   "metadata": {},
   "source": [
    "### 1. Create Product"
   ]
  },
  {
   "cell_type": "code",
   "execution_count": 19,
   "metadata": {},
   "outputs": [],
   "source": [
    "PAYPAL_ACCESS_TOKEN = get_access_token()"
   ]
  },
  {
   "cell_type": "code",
   "execution_count": 17,
   "metadata": {},
   "outputs": [],
   "source": [
    "import json\n",
    "from typing import Dict\n",
    "\n",
    "def create_product(access_token: str, request_id: str) -> Dict:\n",
    "    headers: Dict[str, str] = {\n",
    "        \"Content-Type\": \"application/json\",\n",
    "        \"Authorization\": f\"Bearer {access_token}\",\n",
    "        \"PayPal-Request-Id\": request_id\n",
    "    }\n",
    "\n",
    "    data: Dict[str, str] = {\n",
    "        \"name\": \"Video Streaming Service\",\n",
    "        \"description\": \"A video streaming service\",\n",
    "        \"type\": \"SERVICE\",\n",
    "        \"category\": \"SOFTWARE\",\n",
    "        \"image_url\": \"https://example.com/streaming.jpg\",\n",
    "        \"home_url\": \"https://example.com/home\"\n",
    "    }\n",
    "\n",
    "    response= requests.post(f'{BASE_URL}/v1/catalogs/products', headers=headers, data=json.dumps(data))\n",
    "    return response.json()"
   ]
  },
  {
   "cell_type": "code",
   "execution_count": 20,
   "metadata": {},
   "outputs": [
    {
     "data": {
      "text/plain": [
       "{'id': 'PROD-19E58237XW181271M',\n",
       " 'name': 'Video Streaming Service',\n",
       " 'description': 'A video streaming service',\n",
       " 'create_time': '2024-08-22T16:33:57Z',\n",
       " 'links': [{'href': 'https://api.sandbox.paypal.com/v1/catalogs/products/PROD-19E58237XW181271M',\n",
       "   'rel': 'self',\n",
       "   'method': 'GET'},\n",
       "  {'href': 'https://api.sandbox.paypal.com/v1/catalogs/products/PROD-19E58237XW181271M',\n",
       "   'rel': 'edit',\n",
       "   'method': 'PATCH'}]}"
      ]
     },
     "execution_count": 20,
     "metadata": {},
     "output_type": "execute_result"
    }
   ],
   "source": [
    "product = create_product(PAYPAL_ACCESS_TOKEN, 'request-q')\n",
    "\n",
    "# {'id': 'PROD-19E58237XW181271M',\n",
    "#  'name': 'Video Streaming Service',\n",
    "#  'description': 'A video streaming service',\n",
    "#  'create_time': '2024-08-22T16:33:57Z',\n",
    "#  'links': [{'href': 'https://api.sandbox.paypal.com/v1/catalogs/products/PROD-19E58237XW181271M',\n",
    "#    'rel': 'self',\n",
    "#    'method': 'GET'},\n",
    "#   {'href': 'https://api.sandbox.paypal.com/v1/catalogs/products/PROD-19E58237XW181271M',\n",
    "#    'rel': 'edit',\n",
    "#    'method': 'PATCH'}]}"
   ]
  }
 ],
 "metadata": {
  "kernelspec": {
   "display_name": "venv",
   "language": "python",
   "name": "python3"
  },
  "language_info": {
   "codemirror_mode": {
    "name": "ipython",
    "version": 3
   },
   "file_extension": ".py",
   "mimetype": "text/x-python",
   "name": "python",
   "nbconvert_exporter": "python",
   "pygments_lexer": "ipython3",
   "version": "3.12.4"
  }
 },
 "nbformat": 4,
 "nbformat_minor": 2
}
